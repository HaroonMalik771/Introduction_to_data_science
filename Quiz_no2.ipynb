{
 "cells": [
  {
   "cell_type": "markdown",
   "metadata": {},
   "source": [
    "### Import Necessary Libraries\n"
   ]
  },
  {
   "cell_type": "code",
   "execution_count": 15,
   "metadata": {},
   "outputs": [],
   "source": [
    "import numpy as np\n",
    "import matplotlib.pyplot as plt\n",
    "import pandas as pd\n"
   ]
  },
  {
   "cell_type": "markdown",
   "metadata": {},
   "source": [
    "### Creating Data Frame of given data"
   ]
  },
  {
   "cell_type": "code",
   "execution_count": 16,
   "metadata": {},
   "outputs": [
    {
     "name": "stdout",
     "output_type": "stream",
     "text": [
      "   House Area in Marla  No. of Rooms  Price in Millions of PKR\n",
      "0                    5             4                        15\n",
      "1                    6             5                        17\n",
      "2                    7             4                        18\n",
      "3                    5             5                        15\n",
      "4                   10             6                         8\n",
      "5                    8             6                        16\n"
     ]
    }
   ],
   "source": [
    "import pandas as pd\n",
    "\n",
    "data = {\n",
    "    'House Area in Marla': [5, 6, 7, 5, 10, 8],\n",
    "    'No. of Rooms': [4, 5, 4, 5, 6, 6],\n",
    "    'Price in Millions of PKR': [15, 17, 18, 15, 8, 16]\n",
    "}\n",
    "\n",
    "df = pd.DataFrame(data)\n",
    "\n",
    "print(df)"
   ]
  },
  {
   "cell_type": "markdown",
   "metadata": {},
   "source": [
    "### Apply linear  Polynomial and Multiple Regression"
   ]
  },
  {
   "cell_type": "code",
   "execution_count": 18,
   "metadata": {},
   "outputs": [
    {
     "data": {
      "text/html": [
       "<div>\n",
       "<style scoped>\n",
       "    .dataframe tbody tr th:only-of-type {\n",
       "        vertical-align: middle;\n",
       "    }\n",
       "\n",
       "    .dataframe tbody tr th {\n",
       "        vertical-align: top;\n",
       "    }\n",
       "\n",
       "    .dataframe thead th {\n",
       "        text-align: right;\n",
       "    }\n",
       "</style>\n",
       "<table border=\"1\" class=\"dataframe\">\n",
       "  <thead>\n",
       "    <tr style=\"text-align: right;\">\n",
       "      <th></th>\n",
       "      <th>House Area in Marla</th>\n",
       "      <th>No. of Rooms</th>\n",
       "      <th>Price in Millions of PKR</th>\n",
       "      <th>Linear Regression</th>\n",
       "      <th>Polynomial Regression</th>\n",
       "      <th>Multiple Regression</th>\n",
       "    </tr>\n",
       "  </thead>\n",
       "  <tbody>\n",
       "    <tr>\n",
       "      <th>0</th>\n",
       "      <td>5</td>\n",
       "      <td>4</td>\n",
       "      <td>15</td>\n",
       "      <td>16.991150</td>\n",
       "      <td>14.979968</td>\n",
       "      <td>17.377119</td>\n",
       "    </tr>\n",
       "    <tr>\n",
       "      <th>1</th>\n",
       "      <td>6</td>\n",
       "      <td>5</td>\n",
       "      <td>17</td>\n",
       "      <td>15.814159</td>\n",
       "      <td>17.213942</td>\n",
       "      <td>15.567797</td>\n",
       "    </tr>\n",
       "    <tr>\n",
       "      <th>2</th>\n",
       "      <td>7</td>\n",
       "      <td>4</td>\n",
       "      <td>18</td>\n",
       "      <td>14.637168</td>\n",
       "      <td>17.629808</td>\n",
       "      <td>15.614407</td>\n",
       "    </tr>\n",
       "    <tr>\n",
       "      <th>3</th>\n",
       "      <td>5</td>\n",
       "      <td>5</td>\n",
       "      <td>15</td>\n",
       "      <td>16.991150</td>\n",
       "      <td>14.979968</td>\n",
       "      <td>16.449153</td>\n",
       "    </tr>\n",
       "    <tr>\n",
       "      <th>4</th>\n",
       "      <td>10</td>\n",
       "      <td>6</td>\n",
       "      <td>8</td>\n",
       "      <td>11.106195</td>\n",
       "      <td>7.968750</td>\n",
       "      <td>11.114407</td>\n",
       "    </tr>\n",
       "    <tr>\n",
       "      <th>5</th>\n",
       "      <td>8</td>\n",
       "      <td>6</td>\n",
       "      <td>16</td>\n",
       "      <td>13.460177</td>\n",
       "      <td>16.227564</td>\n",
       "      <td>12.877119</td>\n",
       "    </tr>\n",
       "  </tbody>\n",
       "</table>\n",
       "</div>"
      ],
      "text/plain": [
       "   House Area in Marla  No. of Rooms  Price in Millions of PKR  \\\n",
       "0                    5             4                        15   \n",
       "1                    6             5                        17   \n",
       "2                    7             4                        18   \n",
       "3                    5             5                        15   \n",
       "4                   10             6                         8   \n",
       "5                    8             6                        16   \n",
       "\n",
       "   Linear Regression  Polynomial Regression  Multiple Regression  \n",
       "0          16.991150              14.979968            17.377119  \n",
       "1          15.814159              17.213942            15.567797  \n",
       "2          14.637168              17.629808            15.614407  \n",
       "3          16.991150              14.979968            16.449153  \n",
       "4          11.106195               7.968750            11.114407  \n",
       "5          13.460177              16.227564            12.877119  "
      ]
     },
     "execution_count": 18,
     "metadata": {},
     "output_type": "execute_result"
    }
   ],
   "source": [
    "from sklearn.linear_model import LinearRegression\n",
    "\n",
    "\n",
    "y  = df['Price in Millions of PKR']\n",
    "\n",
    "\n",
    "# Linear Regression\n",
    "linear_reg = LinearRegression()\n",
    "linear_reg.fit(df[['House Area in Marla']], y)\n",
    "df['Linear Regression'] = linear_reg.predict(df[['House Area in Marla']])\n",
    "\n",
    "\n",
    "# 2 is the degree of the polynomial\n",
    "\n",
    "coefficients = np.polyfit(df['House Area in Marla'], y, 2)  \n",
    "poly = np.poly1d(coefficients)\n",
    "df['Polynomial Regression'] = poly(df['House Area in Marla'])\n",
    "df\n",
    "\n",
    "# Multiple Regression\n",
    "multi_reg = LinearRegression()\n",
    "multi_reg.fit(df[['House Area in Marla', 'No. of Rooms']], y)\n",
    "df['Multiple Regression'] = multi_reg.predict(df[['House Area in Marla', 'No. of Rooms']])\n",
    "\n",
    "df"
   ]
  }
 ],
 "metadata": {
  "kernelspec": {
   "display_name": "Python 3",
   "language": "python",
   "name": "python3"
  },
  "language_info": {
   "codemirror_mode": {
    "name": "ipython",
    "version": 3
   },
   "file_extension": ".py",
   "mimetype": "text/x-python",
   "name": "python",
   "nbconvert_exporter": "python",
   "pygments_lexer": "ipython3",
   "version": "3.12.1"
  }
 },
 "nbformat": 4,
 "nbformat_minor": 2
}
