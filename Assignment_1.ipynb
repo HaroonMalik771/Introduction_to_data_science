{
 "cells": [
  {
   "cell_type": "markdown",
   "metadata": {},
   "source": [
    "# Python"
   ]
  },
  {
   "cell_type": "code",
   "execution_count": 1,
   "metadata": {},
   "outputs": [
    {
     "name": "stdout",
     "output_type": "stream",
     "text": [
      "The selected car is: TESLA\n"
     ]
    }
   ],
   "source": [
    "#1.Lists within tuples\n",
    "\n",
    "cars=([\"AUDI\",\"BMW\",\"TOYATA\"],\n",
    "      [\"VOLVO\",\"FORD\",\"TESLA\"],\n",
    "      [\"FERRARI\",\"LAMBORGHINI\",\"BUGATTI\"])\n",
    "\n",
    "print(\"The selected car is:\",cars[1][2])"
   ]
  },
  {
   "cell_type": "code",
   "execution_count": 2,
   "metadata": {},
   "outputs": [
    {
     "name": "stdout",
     "output_type": "stream",
     "text": [
      "Alt coins are: ['DOGE', 'SHIB', 'PEPE']\n",
      "Selected coin is ETH\n"
     ]
    }
   ],
   "source": [
    "#2.List within Lists:\n",
    "\n",
    "coins=[\n",
    "    {\"Bigcoins\":[\"BTC\",\"ETH\",\"SOL\"]},\n",
    "    {\"Altcoins\":[\"DOGE\",\"SHIB\",\"PEPE\"]},\n",
    "]\n",
    "\n",
    "print(\"Alt coins are:\",coins[1][\"Altcoins\"])\n",
    "print(\"Selected coin is\",coins[0][\"Bigcoins\"][1])"
   ]
  },
  {
   "cell_type": "code",
   "execution_count": 3,
   "metadata": {},
   "outputs": [
    {
     "name": "stdout",
     "output_type": "stream",
     "text": [
      "Artificial Intelligence\n",
      "Computer Networks\n",
      "Data Structures\n",
      "Operating Systems\n",
      "Database Management Systems\n",
      "Software Engineering\n",
      "Web Development\n",
      "Computer Graphics\n",
      "Computer Vision\n",
      "Machine Learning\n"
     ]
    }
   ],
   "source": [
    "#3.tuples within tuples\n",
    "\n",
    "CoreSubjects=((\"Artificial Intelligence\",\"Computer Networks\",\"Data Structures\",\"Operating Systems\"),\n",
    "              (\"Database Management Systems\",\"Software Engineering\",\"Web Development\"),\n",
    "              (\"Computer Graphics\",\"Computer Vision\",\"Machine Learning\"))\n",
    "\n",
    "for x in CoreSubjects:\n",
    "    for y in x:\n",
    "     print(y)"
   ]
  },
  {
   "cell_type": "code",
   "execution_count": 4,
   "metadata": {},
   "outputs": [
    {
     "name": "stdout",
     "output_type": "stream",
     "text": [
      "The subjects of Ali are: ['English', 'Urdu', 'Islamiat']\n"
     ]
    }
   ],
   "source": [
    "#4.List and Tuple within Lists:\n",
    "\n",
    "Students=[(\"Farhan\",\"Ali\",[\"Maths\",\"Physics\",\"Chemistry\"]),\n",
    "            (\"Ali\",\"Ahmed\",[\"English\",\"Urdu\",\"Islamiat\"]),\n",
    "            (\"Usman\",\"Khan\",[\"Biology\",\"Computer\",\"Statistics\"])]\n",
    "\n",
    "print(\"The subjects of Ali are:\",Students[1][2])"
   ]
  },
  {
   "cell_type": "code",
   "execution_count": 3,
   "metadata": {},
   "outputs": [
    {
     "name": "stdout",
     "output_type": "stream",
     "text": [
      "Australia\n",
      "New Zealand\n",
      "South Africa\n",
      "India\n",
      "USA\n",
      "UK\n",
      "Canada\n",
      "Brazil\n",
      "Argentina\n",
      "Chile\n"
     ]
    }
   ],
   "source": [
    "#5.tuples in sets\n",
    "\n",
    "Places={(\"India\",\"USA\",\"UK\",\"Canada\"),\n",
    "         (\"Australia\",\"New Zealand\",\"South Africa\"),\n",
    "         (\"Brazil\",\"Argentina\",\"Chile\")}\n",
    "\n",
    "for x in Places:\n",
    "   for y in x:\n",
    "    print(y)"
   ]
  },
  {
   "cell_type": "code",
   "execution_count": 6,
   "metadata": {},
   "outputs": [
    {
     "name": "stdout",
     "output_type": "stream",
     "text": [
      "\t\tmath: 90\n",
      "\t\tscience: 85\n",
      "\t\thistory: 88\n"
     ]
    }
   ],
   "source": [
    "# Nested Dictionary\n",
    "nested_dict = {\n",
    "    'Farhan': {\n",
    "        'Batch': 21-25,\n",
    "        'age': 20,\n",
    "        'grades': {\n",
    "            'math': 90,\n",
    "            'science': 85,\n",
    "            'history': 88\n",
    "        }\n",
    "    },\n",
    "    'Haroon': {\n",
    "        'Batch': 21-25,\n",
    "        'age': 22,\n",
    "        'grades': {\n",
    "            'math': 95,\n",
    "            'science': 92,\n",
    "            'history': 89\n",
    "        }\n",
    "    }\n",
    "}\n",
    "\n",
    "\n",
    "for subject, grade in nested_dict['Farhan']['grades'].items():\n",
    "    print(f\"\\t\\t{subject}: {grade}\")\n"
   ]
  },
  {
   "cell_type": "code",
   "execution_count": 7,
   "metadata": {},
   "outputs": [
    {
     "name": "stdout",
     "output_type": "stream",
     "text": [
      "\n",
      "Nested Set:\n",
      "Set 1: frozenset({'Ormara', 'Gawader', 'Quetta'})\n",
      "Set 2: frozenset({'Rawalpindi', 'Kasur', 'Lahore'})\n",
      "Set 3: frozenset({'Thatta', 'Karachi'})\n"
     ]
    }
   ],
   "source": [
    "# 7 Nested set\n",
    "\n",
    "nested_set = {\n",
    "    frozenset({'Lahore', 'Rawalpindi', 'Kasur'}),\n",
    "    frozenset({'Karachi', 'Thatta'}),\n",
    "    frozenset({'Quetta', 'Gawader', 'Ormara'})\n",
    "}\n",
    "\n",
    "# Printing nested set\n",
    "print(\"\\nNested Set:\")\n",
    "print(\"Set 1:\", list(nested_set)[0])\n",
    "print(\"Set 2:\", list(nested_set)[1])\n",
    "print(\"Set 3:\", list(nested_set)[2])"
   ]
  },
  {
   "cell_type": "code",
   "execution_count": 8,
   "metadata": {},
   "outputs": [
    {
     "name": "stdout",
     "output_type": "stream",
     "text": [
      "{'Asia': {'China', 'Pakistan', 'Japan'}, 'Africa': {'Rwanda', 'kenya', 'South Africa'}, 'Europe': {'UK', 'Ireland', 'Itlay'}}\n"
     ]
    }
   ],
   "source": [
    "#8 Nested Dictionary with set\n",
    "\n",
    "nested_dict_with_sets = {\n",
    "    'Asia': {'Pakistan', 'China', 'Japan'},\n",
    "    'Africa': {'South Africa', 'kenya', 'Rwanda'},\n",
    "    'Europe': {'UK', 'Ireland', 'Itlay'}\n",
    "}\n",
    "\n",
    "print(nested_dict_with_sets)\n",
    "\n"
   ]
  },
  {
   "cell_type": "code",
   "execution_count": 10,
   "metadata": {},
   "outputs": [
    {
     "name": "stdout",
     "output_type": "stream",
     "text": [
      "{frozenset({1, 2, 3}), frozenset({4, 5, 6}), frozenset({8, 9, 7})}\n"
     ]
    }
   ],
   "source": [
    "\n",
    "#9 Nested set with list\n",
    "nested_set_with_lists = {\n",
    "    frozenset({1, 2, 3}),\n",
    "    frozenset({4, 5, 6}),\n",
    "    frozenset({7, 8, 9})\n",
    "}\n",
    "\n",
    "print(nested_set_with_lists)\n"
   ]
  },
  {
   "cell_type": "code",
   "execution_count": 12,
   "metadata": {},
   "outputs": [
    {
     "name": "stdout",
     "output_type": "stream",
     "text": [
      "{1, 2, 3}\n"
     ]
    }
   ],
   "source": [
    "#10 Nested Dictionary with set and list\n",
    "mixed_nested_dict_with_sets = {\n",
    "    'set_dict1': {'set1': {1, 2, 3}, 'set2': {4, 5, 6}},\n",
    "    'set_dict2': {'set3': {7, 8, 9}, 'set4': {10, 11, 12}},\n",
    "    'set_dict3': {'set5': {13, 14, 15}, 'set6': {16, 17, 18}}\n",
    "}\n",
    "\n",
    "print(mixed_nested_dict_with_sets['set_dict1']['set1'])\n"
   ]
  }
 ],
 "metadata": {
  "kernelspec": {
   "display_name": "Python 3",
   "language": "python",
   "name": "python3"
  },
  "language_info": {
   "codemirror_mode": {
    "name": "ipython",
    "version": 3
   },
   "file_extension": ".py",
   "mimetype": "text/x-python",
   "name": "python",
   "nbconvert_exporter": "python",
   "pygments_lexer": "ipython3",
   "version": "3.12.1"
  }
 },
 "nbformat": 4,
 "nbformat_minor": 2
}
